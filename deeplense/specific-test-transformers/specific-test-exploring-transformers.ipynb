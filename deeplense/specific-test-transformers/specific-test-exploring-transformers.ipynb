{
 "cells": [
  {
   "cell_type": "markdown",
   "metadata": {
    "id": "ldnepIwYJBsT"
   },
   "source": [
    "# Challenge - Exploring Transformers\n",
    "\n",
    "Gravitational lensing has been a cornerstone in many cosmology experiments and studies since it was discussed in Einstein’s calculations back in 1936 and discovered in 1979, and one area of particular interest is the study of dark matter via substructure in strong lensing images. In this challenge, we focus on using a vision transformer to build a robust and efficient model for binary classification between lensing images with and without substructure.\n",
    "\n",
    "### Dataset\n",
    "\n",
    "A set of simulated strong gravitational lensing images with and without substructure.\n",
    "\n",
    "Link to the Dataset: https://drive.google.com/file/d/16Y1taQoTeUTP5rGpB0tuPZ_S30acvnqr/view?usp=sharing\n",
    "\n",
    "### Evaluation Metrics\n",
    "\n",
    "ROC curve (Receiver Operating Characteristic curve) and AUC score (Area Under the ROC Curve)"
   ]
  },
  {
   "cell_type": "markdown",
   "metadata": {
    "id": "joTZv_Q1Mkpn"
   },
   "source": [
    "## Binary Classification using a Supervised Model"
   ]
  },
  {
   "cell_type": "markdown",
   "metadata": {
    "id": "gOlnaatgMqCh"
   },
   "source": [
    "### 1. Data Visualization and Preprocessing "
   ]
  },
  {
   "cell_type": "markdown",
   "metadata": {
    "id": "Qaai4ZCZMsb7"
   },
   "source": [
    "#### 1.1 Install and import all the necessary libraries"
   ]
  },
  {
   "cell_type": "code",
   "execution_count": 1,
   "metadata": {
    "colab": {
     "base_uri": "https://localhost:8080/"
    },
    "execution": {
     "iopub.execute_input": "2023-03-26T13:10:44.814384Z",
     "iopub.status.busy": "2023-03-26T13:10:44.813869Z",
     "iopub.status.idle": "2023-03-26T13:10:57.571736Z",
     "shell.execute_reply": "2023-03-26T13:10:57.570436Z",
     "shell.execute_reply.started": "2023-03-26T13:10:44.814336Z"
    },
    "id": "MLGUDT6A6w0t",
    "outputId": "e11dfcf3-de96-47af-f956-1375da1be35f"
   },
   "outputs": [
    {
     "name": "stdout",
     "output_type": "stream",
     "text": [
      "\u001b[33mWARNING: Running pip as the 'root' user can result in broken permissions and conflicting behaviour with the system package manager. It is recommended to use a virtual environment instead: https://pip.pypa.io/warnings/venv\u001b[0m\u001b[33m\n",
      "\u001b[0m"
     ]
    }
   ],
   "source": [
    "# %cd /content/drive/MyDrive/G Transformers\n",
    "!pip3 -q install gdown numpy pandas scikit-learn matplotlib tqdm torch torchvision torchaudio wandb split-folders vit_pytorch timm"
   ]
  },
  {
   "cell_type": "code",
   "execution_count": 2,
   "metadata": {
    "colab": {
     "base_uri": "https://localhost:8080/",
     "height": 107
    },
    "execution": {
     "iopub.execute_input": "2023-03-26T13:10:57.575813Z",
     "iopub.status.busy": "2023-03-26T13:10:57.575485Z",
     "iopub.status.idle": "2023-03-26T13:11:12.466861Z",
     "shell.execute_reply": "2023-03-26T13:11:12.465754Z",
     "shell.execute_reply.started": "2023-03-26T13:10:57.575781Z"
    },
    "id": "GfG2Vj9TSxA6",
    "outputId": "59725a60-e692-4dca-c324-d8292b44f0f0"
   },
   "outputs": [
    {
     "name": "stderr",
     "output_type": "stream",
     "text": [
      "\u001b[34m\u001b[1mwandb\u001b[0m: Logging into wandb.ai. (Learn how to deploy a W&B server locally: https://wandb.me/wandb-server)\n",
      "\u001b[34m\u001b[1mwandb\u001b[0m: You can find your API key in your browser here: https://wandb.ai/authorize\n",
      "\u001b[34m\u001b[1mwandb\u001b[0m: Paste an API key from your profile and hit enter, or press ctrl+c to quit:"
     ]
    },
    {
     "name": "stdin",
     "output_type": "stream",
     "text": [
      "  ········································\n"
     ]
    },
    {
     "name": "stderr",
     "output_type": "stream",
     "text": [
      "\u001b[34m\u001b[1mwandb\u001b[0m: Appending key for api.wandb.ai to your netrc file: /root/.netrc\n"
     ]
    }
   ],
   "source": [
    "import numpy as np\n",
    "import torch\n",
    "\n",
    "from torch import nn\n",
    "from torchvision import models\n",
    "from torch.nn import Conv2d\n",
    "from torch.utils.data.sampler import SubsetRandomSampler\n",
    "from torch.utils.data import Dataset, DataLoader\n",
    "import torch.optim as optim\n",
    "from torch.optim.lr_scheduler import ReduceLROnPlateau\n",
    "from torchvision import transforms, utils\n",
    "from vit_pytorch import ViT\n",
    "import timm\n",
    "\n",
    "import glob\n",
    "from pandas.core.common import flatten\n",
    "import random\n",
    "import time\n",
    "from tqdm import tqdm\n",
    "import sys\n",
    "import os\n",
    "import splitfolders\n",
    "import shutil\n",
    "from PIL import Image\n",
    "\n",
    "from sklearn import metrics\n",
    "from sklearn.metrics import roc_curve\n",
    "from sklearn.metrics import roc_auc_score\n",
    "from sklearn.preprocessing import OneHotEncoder\n",
    "from scipy.special import softmax\n",
    "import matplotlib.pyplot as plt\n",
    "\n",
    "import wandb\n",
    "wandb.login()\n",
    "\n",
    "# Make the notebook reproducible\n",
    "\n",
    "def seed_everything(seed):\n",
    "    random.seed(seed)\n",
    "    os.environ['PYTHONHASHSEED'] = str(seed)\n",
    "    np.random.seed(seed)\n",
    "    torch.manual_seed(seed)\n",
    "    torch.cuda.manual_seed(seed)\n",
    "    torch.cuda.manual_seed_all(seed)\n",
    "    torch.backends.cudnn.deterministic = True\n",
    "\n",
    "seed = 69\n",
    "seed_everything(seed)"
   ]
  },
  {
   "cell_type": "markdown",
   "metadata": {
    "id": "Huq7xouwM7r-"
   },
   "source": [
    "#### 1.2 Download and Split the Data"
   ]
  },
  {
   "cell_type": "code",
   "execution_count": 3,
   "metadata": {
    "execution": {
     "iopub.execute_input": "2023-03-26T13:11:12.468961Z",
     "iopub.status.busy": "2023-03-26T13:11:12.468611Z",
     "iopub.status.idle": "2023-03-26T13:11:21.022129Z",
     "shell.execute_reply": "2023-03-26T13:11:21.021102Z",
     "shell.execute_reply.started": "2023-03-26T13:11:12.468929Z"
    },
    "id": "vPNoLDzhuRCc"
   },
   "outputs": [
    {
     "name": "stderr",
     "output_type": "stream",
     "text": [
      "Downloading...\n",
      "From: https://drive.google.com/uc?id=16Y1taQoTeUTP5rGpB0tuPZ_S30acvnqr\n",
      "To: /kaggle/working/lenses.tgz\n",
      "100%|██████████| 5.46M/5.46M [00:00<00:00, 59.6MB/s]\n",
      "Copying files: 10000 files [00:01, 8672.22 files/s]\n"
     ]
    },
    {
     "name": "stdout",
     "output_type": "stream",
     "text": [
      "/kaggle/working/lenses_split\n"
     ]
    }
   ],
   "source": [
    "import gdown\n",
    "\n",
    "if not os.path.isfile('lenses.tgz'):\n",
    "    url = \"https://drive.google.com/uc?id=16Y1taQoTeUTP5rGpB0tuPZ_S30acvnqr\"\n",
    "    output = \"lenses.tgz\"\n",
    "    gdown.download(url, output, quiet=False)\n",
    "\n",
    "\n",
    "temp_dir = 'lenses'\n",
    "data_dir = temp_dir + '_split'\n",
    "\n",
    "if not os.path.isdir(data_dir):\n",
    "    os.system('tar xzf lenses.tgz')\n",
    "    splitfolders.ratio(temp_dir, output=data_dir, seed=seed, ratio=(0.80, 0.10, 0.10))\n",
    "    shutil.rmtree(temp_dir)\n",
    "\n",
    "%cd $data_dir"
   ]
  },
  {
   "cell_type": "markdown",
   "metadata": {
    "id": "g9ktrkA2ipKU"
   },
   "source": [
    "#### 1.3 Preview the Data"
   ]
  },
  {
   "cell_type": "code",
   "execution_count": 4,
   "metadata": {
    "colab": {
     "base_uri": "https://localhost:8080/",
     "height": 351
    },
    "execution": {
     "iopub.execute_input": "2023-03-26T13:11:21.026941Z",
     "iopub.status.busy": "2023-03-26T13:11:21.026058Z",
     "iopub.status.idle": "2023-03-26T13:11:21.568946Z",
     "shell.execute_reply": "2023-03-26T13:11:21.567706Z",
     "shell.execute_reply.started": "2023-03-26T13:11:21.026902Z"
    },
    "id": "AOGpimaEioiU",
    "outputId": "b3037933-29a7-4451-8647-cfdfc1608a32"
   },
   "outputs": [
    {
     "name": "stdout",
     "output_type": "stream",
     "text": [
      "Samples with no substructure: \n"
     ]
    },
    {
     "data": {
      "image/png": "[encoded data removed]",
      "text/plain": [
       "<Figure size 1400x1400 with 5 Axes>"
      ]
     },
     "metadata": {},
     "output_type": "display_data"
    },
    {
     "name": "stdout",
     "output_type": "stream",
     "text": [
      "Samples with substructure: \n"
     ]
    },
    {
     "data": {
      "image/png": "[encoded data removed]",
      "text/plain": [
       "<Figure size 1400x1400 with 5 Axes>"
      ]
     },
     "metadata": {},
     "output_type": "display_data"
    }
   ],
   "source": [
    "# Define the input paths\n",
    "train_path1 = './train/no_sub'\n",
    "train_files1 = [os.path.join(train_path1, f) for f in os.listdir(train_path1) if f.endswith(\".jpg\")]\n",
    "train_path2 = './train/sub'\n",
    "train_files2 = [os.path.join(train_path2, f) for f in os.listdir(train_path2) if f.endswith(\".jpg\")]\n",
    "\n",
    "# Number of samples to display per class\n",
    "n = 5\n",
    "\n",
    "# Plot the samples \n",
    "i = 1\n",
    "print('Samples with no substructure: ')\n",
    "plt.rcParams['figure.figsize'] = [14, 14]\n",
    "for image in train_files1[:n]:\n",
    "    ax = plt.subplot(2,n,i)\n",
    "    img = np.array(Image.open(image))\n",
    "    plt.imshow(img, cmap='gray')\n",
    "    ax.get_xaxis().set_visible(False)\n",
    "    ax.get_yaxis().set_visible(False)\n",
    "    i += 1\n",
    "plt.show()\n",
    "\n",
    "print('Samples with substructure: ')\n",
    "plt.rcParams['figure.figsize'] = [14, 14]\n",
    "for image in train_files2[:n]:\n",
    "    ax = plt.subplot(2,n,i)\n",
    "    img = np.array(Image.open(image))\n",
    "    plt.imshow(img, cmap='gray')\n",
    "    ax.get_xaxis().set_visible(False)\n",
    "    ax.get_yaxis().set_visible(False)\n",
    "    i += 1\n",
    "plt.show()"
   ]
  },
  {
   "cell_type": "markdown",
   "metadata": {
    "id": "xR85lItlkIfx"
   },
   "source": [
    "#### 1.4 Data preparation"
   ]
  },
  {
   "cell_type": "code",
   "execution_count": 5,
   "metadata": {
    "execution": {
     "iopub.execute_input": "2023-03-26T13:11:21.575455Z",
     "iopub.status.busy": "2023-03-26T13:11:21.574874Z",
     "iopub.status.idle": "2023-03-26T13:11:21.639033Z",
     "shell.execute_reply": "2023-03-26T13:11:21.638113Z",
     "shell.execute_reply.started": "2023-03-26T13:11:21.575389Z"
    },
    "id": "Tesq4OSDypf6"
   },
   "outputs": [],
   "source": [
    "# Create a list of paths to train, validation and test images\n",
    "\n",
    "classes = []\n",
    "\n",
    "train_data_path = 'train' \n",
    "val_data_path = 'val'\n",
    "test_data_path = 'test'\n",
    "\n",
    "train_image_paths = []\n",
    "\n",
    "for data_path in glob.glob(train_data_path + '/*'):\n",
    "    classes.append(data_path.split('/')[-1]) \n",
    "    train_image_paths.append(glob.glob(data_path + '/*'))\n",
    "\n",
    "train_image_paths = list(flatten(train_image_paths))\n",
    "random.shuffle(train_image_paths)\n",
    "\n",
    "valid_image_paths = []\n",
    "for data_path in glob.glob(val_data_path + '/*'):\n",
    "    valid_image_paths.append(glob.glob(data_path + '/*'))\n",
    "\n",
    "valid_image_paths = list(flatten(valid_image_paths))\n",
    "random.shuffle(valid_image_paths)\n",
    "\n",
    "test_image_paths = []\n",
    "for data_path in glob.glob(test_data_path + '/*'):\n",
    "    test_image_paths.append(glob.glob(data_path + '/*'))\n",
    "\n",
    "test_image_paths = list(flatten(test_image_paths))\n",
    "\n",
    "# Create a mapping between class labels and class numbers\n",
    "\n",
    "idx_to_class = {i:j for i, j in enumerate(classes)}\n",
    "class_to_idx = {value:key for key,value in idx_to_class.items()}"
   ]
  },
  {
   "cell_type": "code",
   "execution_count": 6,
   "metadata": {
    "execution": {
     "iopub.execute_input": "2023-03-26T13:11:21.640866Z",
     "iopub.status.busy": "2023-03-26T13:11:21.640515Z",
     "iopub.status.idle": "2023-03-26T13:11:21.648965Z",
     "shell.execute_reply": "2023-03-26T13:11:21.647557Z",
     "shell.execute_reply.started": "2023-03-26T13:11:21.640830Z"
    },
    "id": "Yt-aQaMIveXM"
   },
   "outputs": [],
   "source": [
    "# Define a custom dataset to retrieve images and labels\n",
    "\n",
    "class MyDataset(Dataset):\n",
    "    def __init__(self, np_file_paths, transform=None):\n",
    "        self.files = np_file_paths\n",
    "        self.transform = transform\n",
    "    \n",
    "    def __getitem__(self, index):\n",
    "        image_filepath = self.files[index]\n",
    "        image = np.array(Image.open(self.files[index]))\n",
    "        image = torch.from_numpy(image).float()\n",
    "\n",
    "        label = image_filepath.split('/')[-2]\n",
    "        label = class_to_idx[label]\n",
    "\n",
    "        image = image.reshape((1, image.shape[0], image.shape[1]))\n",
    "        if self.transform is not None:\n",
    "            image = self.transform(image)\n",
    "        \n",
    "        return image, label\n",
    "    \n",
    "    def __len__(self):\n",
    "        return len(self.files)"
   ]
  },
  {
   "cell_type": "code",
   "execution_count": 7,
   "metadata": {
    "execution": {
     "iopub.execute_input": "2023-03-26T13:11:21.651675Z",
     "iopub.status.busy": "2023-03-26T13:11:21.650667Z",
     "iopub.status.idle": "2023-03-26T13:11:21.663002Z",
     "shell.execute_reply": "2023-03-26T13:11:21.662048Z",
     "shell.execute_reply.started": "2023-03-26T13:11:21.651639Z"
    },
    "id": "pyodIPa9zWdr"
   },
   "outputs": [],
   "source": [
    "# Define the trasformations to apply on images\n",
    "\n",
    "train_transform = transforms.Compose([\n",
    "    transforms.Resize(224),\n",
    "    transforms.CenterCrop(224),\n",
    "    transforms.RandomAffine(degrees=(-20, 20), translate=(0.2, 0.2))\n",
    "])\n",
    "\n",
    "valid_transform = transforms.Compose([\n",
    "    transforms.Resize(224),\n",
    "    transforms.CenterCrop(224)\n",
    "])\n",
    "\n",
    "test_tranform = transforms.Compose([\n",
    "    transforms.Resize(224),\n",
    "    transforms.CenterCrop(224)\n",
    "])\n",
    "\n",
    "# Create instances of train, validation and test datasets\n",
    "\n",
    "train_dataset = MyDataset(train_image_paths, train_transform)\n",
    "valid_dataset = MyDataset(valid_image_paths, valid_transform)\n",
    "test_dataset = MyDataset(test_image_paths, test_tranform)\n",
    "\n",
    "batch_size = 64\n",
    "\n",
    "# Create data loaders with a batch_size\n",
    "\n",
    "train_loader = DataLoader(train_dataset, batch_size=batch_size, shuffle=True)\n",
    "valid_loader = DataLoader(valid_dataset, batch_size=batch_size, shuffle=True)\n",
    "test_loader = DataLoader(test_dataset, batch_size=batch_size, shuffle=False)"
   ]
  },
  {
   "cell_type": "code",
   "execution_count": 8,
   "metadata": {
    "execution": {
     "iopub.execute_input": "2023-03-26T13:11:21.664384Z",
     "iopub.status.busy": "2023-03-26T13:11:21.664128Z",
     "iopub.status.idle": "2023-03-26T13:11:21.773365Z",
     "shell.execute_reply": "2023-03-26T13:11:21.772222Z",
     "shell.execute_reply.started": "2023-03-26T13:11:21.664360Z"
    },
    "id": "jMdEfvizgA-r"
   },
   "outputs": [],
   "source": [
    "# Set to GPU if available\n",
    "device = torch.device('cuda' if torch.cuda.is_available() else 'cpu')"
   ]
  },
  {
   "cell_type": "markdown",
   "metadata": {
    "id": "aLLUo3DXkzd5"
   },
   "source": [
    "### 2. Training a CoaT model"
   ]
  },
  {
   "cell_type": "markdown",
   "metadata": {
    "id": "MHzr_Huhk1rc"
   },
   "source": [
    "#### 2.1 Preparing to train the CoaT Model"
   ]
  },
  {
   "cell_type": "code",
   "execution_count": 9,
   "metadata": {
    "execution": {
     "iopub.execute_input": "2023-03-26T13:11:21.775751Z",
     "iopub.status.busy": "2023-03-26T13:11:21.774970Z",
     "iopub.status.idle": "2023-03-26T13:11:21.786261Z",
     "shell.execute_reply": "2023-03-26T13:11:21.785180Z",
     "shell.execute_reply.started": "2023-03-26T13:11:21.775714Z"
    }
   },
   "outputs": [],
   "source": [
    "# Define a utility function to check the accuracy of model on a given loader\n",
    "\n",
    "def check_accuracy(loader, model, device):\n",
    "    num_samples = 0\n",
    "    num_correct_pred = 0\n",
    "    model.eval()\n",
    "\n",
    "    y_pred = []\n",
    "    y_true = []\n",
    "\n",
    "    with torch.no_grad():\n",
    "        for (x, y) in loader:\n",
    "            x = x.to(device)\n",
    "            y = y.to(device)\n",
    "\n",
    "            score = model.forward(x)\n",
    "            val, idx = torch.max(score, dim=1)\n",
    "            num_correct_pred += (y == idx).sum()\n",
    "            num_samples += x.shape[0]\n",
    "\n",
    "            y_pred.extend(list(score.cpu().numpy()))\n",
    "            y_true.extend((list(y.cpu().numpy())))\n",
    "\n",
    "        acc = num_correct_pred / num_samples\n",
    "        y_one_hot = OneHotEncoder().fit_transform(np.array(y_true).reshape(-1, 1)).toarray()\n",
    "        auc = roc_auc_score(\n",
    "            y_one_hot.ravel(),\n",
    "            softmax(np.array(y_pred), axis=1).ravel()\n",
    "        )\n",
    "\n",
    "    model.train()\n",
    "    return acc, auc, y_one_hot, softmax(np.array(y_pred), axis=1)"
   ]
  },
  {
   "cell_type": "code",
   "execution_count": 10,
   "metadata": {
    "execution": {
     "iopub.execute_input": "2023-03-26T13:11:21.791048Z",
     "iopub.status.busy": "2023-03-26T13:11:21.790511Z",
     "iopub.status.idle": "2023-03-26T13:11:21.799839Z",
     "shell.execute_reply": "2023-03-26T13:11:21.798830Z",
     "shell.execute_reply.started": "2023-03-26T13:11:21.791022Z"
    }
   },
   "outputs": [],
   "source": [
    "# Create a directory to checkpoint the model\n",
    "if not os.path.exists(\"checkpoint\"):\n",
    "    os.makedirs(\"checkpoint\")"
   ]
  },
  {
   "cell_type": "markdown",
   "metadata": {},
   "source": [
    "#### 2.2 Define and Train the CoaT model"
   ]
  },
  {
   "cell_type": "code",
   "execution_count": 12,
   "metadata": {
    "execution": {
     "iopub.execute_input": "2023-03-26T13:12:05.734274Z",
     "iopub.status.busy": "2023-03-26T13:12:05.733809Z",
     "iopub.status.idle": "2023-03-26T13:12:10.253290Z",
     "shell.execute_reply": "2023-03-26T13:12:10.252196Z",
     "shell.execute_reply.started": "2023-03-26T13:12:05.734233Z"
    }
   },
   "outputs": [
    {
     "name": "stderr",
     "output_type": "stream",
     "text": [
      "Downloading: \"https://github.com/rwightman/pytorch-image-models/releases/download/v0.1-coat-weights/coat_lite_small-fea1d5a1.pth\" to /root/.cache/torch/hub/checkpoints/coat_lite_small-fea1d5a1.pth\n"
     ]
    }
   ],
   "source": [
    "# Define the hyperparameters and model\n",
    "num_epochs = 25\n",
    "lr = 1e-4\n",
    "\n",
    "model = timm.create_model(\"coat_lite_small\", pretrained=True, num_classes=2, in_chans=1).to(device)\n",
    "model.default_cfg[\"input_size\"] = (1, 224, 224)\n",
    "model.default_cfg[\"num_classes\"] = 2\n",
    "\n",
    "optimizer = optim.Adam(model.parameters(), lr=lr)\n",
    "criterion = nn.CrossEntropyLoss()\n",
    "\n",
    "# Define lr scheduler\n",
    "scheduler = ReduceLROnPlateau(\n",
    "    optimizer,\n",
    "    mode=\"max\",\n",
    "    factor=0.5,\n",
    "    patience=2,\n",
    "    threshold=0.0001,\n",
    "    min_lr=1e-10,\n",
    "    verbose=True\n",
    ")"
   ]
  },
  {
   "cell_type": "code",
   "execution_count": 13,
   "metadata": {
    "execution": {
     "iopub.execute_input": "2023-03-26T13:12:26.761979Z",
     "iopub.status.busy": "2023-03-26T13:12:26.761552Z",
     "iopub.status.idle": "2023-03-26T13:12:57.671893Z",
     "shell.execute_reply": "2023-03-26T13:12:57.670785Z",
     "shell.execute_reply.started": "2023-03-26T13:12:26.761940Z"
    }
   },
   "outputs": [
    {
     "name": "stderr",
     "output_type": "stream",
     "text": [
      "\u001b[34m\u001b[1mwandb\u001b[0m: Currently logged in as: \u001b[33myogesh174\u001b[0m. Use \u001b[1m`wandb login --relogin`\u001b[0m to force relogin\n"
     ]
    },
    {
     "data": {
      "text/html": [
       "wandb version 0.14.0 is available!  To upgrade, please run:\n",
       " $ pip install wandb --upgrade"
      ],
      "text/plain": [
       "<IPython.core.display.HTML object>"
      ]
     },
     "metadata": {},
     "output_type": "display_data"
    },
    {
     "data": {
      "text/html": [
       "Tracking run with wandb version 0.13.10"
      ],
      "text/plain": [
       "<IPython.core.display.HTML object>"
      ]
     },
     "metadata": {},
     "output_type": "display_data"
    },
    {
     "data": {
      "text/html": [
       "Run data is saved locally in <code>/kaggle/working/lenses_split/wandb/run-20230326_131226-84ww20jp</code>"
      ],
      "text/plain": [
       "<IPython.core.display.HTML object>"
      ]
     },
     "metadata": {},
     "output_type": "display_data"
    },
    {
     "data": {
      "text/html": [
       "Syncing run <strong><a href='https://wandb.ai/yogesh174/deeplense-transformers-test/runs/84ww20jp' target=\"_blank\">comic-sea-4</a></strong> to <a href='https://wandb.ai/yogesh174/deeplense-transformers-test' target=\"_blank\">Weights & Biases</a> (<a href='https://wandb.me/run' target=\"_blank\">docs</a>)<br/>"
      ],
      "text/plain": [
       "<IPython.core.display.HTML object>"
      ]
     },
     "metadata": {},
     "output_type": "display_data"
    },
    {
     "data": {
      "text/html": [
       " View project at <a href='https://wandb.ai/yogesh174/deeplense-transformers-test' target=\"_blank\">https://wandb.ai/yogesh174/deeplense-transformers-test</a>"
      ],
      "text/plain": [
       "<IPython.core.display.HTML object>"
      ]
     },
     "metadata": {},
     "output_type": "display_data"
    },
    {
     "data": {
      "text/html": [
       " View run at <a href='https://wandb.ai/yogesh174/deeplense-transformers-test/runs/84ww20jp' target=\"_blank\">https://wandb.ai/yogesh174/deeplense-transformers-test/runs/84ww20jp</a>"
      ],
      "text/plain": [
       "<IPython.core.display.HTML object>"
      ]
     },
     "metadata": {},
     "output_type": "display_data"
    },
    {
     "data": {
      "text/plain": [
       "[]"
      ]
     },
     "execution_count": 13,
     "metadata": {},
     "output_type": "execute_result"
    }
   ],
   "source": [
    "# Start a new wandb run\n",
    "wandb.init(\n",
    "    project=\"deeplense-transformers-test\",\n",
    "    config={\n",
    "        \"batch_size\": batch_size,\n",
    "        \"learning_rate\": lr,\n",
    "        \"architecture\": \"coat_lite_small\",\n",
    "        \"epochs\": num_epochs\n",
    "    }\n",
    ")\n",
    "\n",
    "wandb.watch(model, log_freq=100)"
   ]
  },
  {
   "cell_type": "code",
   "execution_count": 14,
   "metadata": {
    "execution": {
     "iopub.execute_input": "2023-03-26T13:12:57.685546Z",
     "iopub.status.busy": "2023-03-26T13:12:57.681029Z",
     "iopub.status.idle": "2023-03-26T15:12:30.698059Z",
     "shell.execute_reply": "2023-03-26T15:12:30.697034Z",
     "shell.execute_reply.started": "2023-03-26T13:12:57.685494Z"
    }
   },
   "outputs": [
    {
     "name": "stdout",
     "output_type": "stream",
     "text": [
      "epoch: [1/25], Saving model ...                  \n",
      "epoch: [1/25], loss: 0.69589182, val acc: 0.4970, val auc: 0.4928, time used: 4.8514m\n",
      "epoch: [2/25], Saving model ...                  \n",
      "epoch: [2/25], loss: 0.69288886, val acc: 0.5000, val auc: 0.5421, time used: 4.7958m\n",
      "epoch: [3/25], loss: 0.69593030, val acc: 0.5000, val auc: 0.5232, time used: 4.7780m\n",
      "epoch: [4/25], Saving model ...                  \n",
      "epoch: [4/25], loss: 0.69225651, val acc: 0.5000, val auc: 0.6085, time used: 4.7862m\n",
      "epoch: [5/25], Saving model ...                  \n",
      "epoch: [5/25], loss: 0.66863817, val acc: 0.7810, val auc: 0.8548, time used: 4.7860m\n",
      "epoch: [6/25], Saving model ...                  \n",
      "epoch: [6/25], loss: 0.40118853, val acc: 0.9340, val auc: 0.9831, time used: 4.8005m\n",
      "epoch: [7/25], Saving model ...                  \n",
      "epoch: [7/25], loss: 0.14670506, val acc: 0.9450, val auc: 0.9903, time used: 4.7989m\n",
      "epoch: [8/25], Saving model ...                  \n",
      "epoch: [8/25], loss: 0.10354263, val acc: 0.9790, val auc: 0.9985, time used: 4.7971m\n",
      "epoch: [9/25], loss: 0.10697060, val acc: 0.9740, val auc: 0.9978, time used: 4.7736m\n",
      "epoch: [10/25], Saving model ...                 \n",
      "epoch: [10/25], loss: 0.06166804, val acc: 0.9830, val auc: 0.9989, time used: 4.7868m\n",
      "epoch: [11/25], Saving model ...                 \n",
      "epoch: [11/25], loss: 0.05510559, val acc: 0.9880, val auc: 0.9992, time used: 4.7883m\n",
      "epoch: [12/25], Saving model ...                 \n",
      "epoch: [12/25], loss: 0.04593501, val acc: 0.9940, val auc: 0.9998, time used: 4.7801m\n",
      "epoch: [13/25], loss: 0.04010573, val acc: 0.9830, val auc: 0.9994, time used: 4.7612m\n",
      "epoch: [14/25], loss: 0.04265774, val acc: 0.9870, val auc: 0.9993, time used: 4.7581m\n",
      "Epoch 00015: reducing learning rate of group 0 to 5.0000e-05.\n",
      "epoch: [15/25], loss: 0.04130678, val acc: 0.9800, val auc: 0.9989, time used: 4.7619m\n",
      "epoch: [16/25], Saving model ...                 \n",
      "epoch: [16/25], loss: 0.02049118, val acc: 0.9950, val auc: 0.9999, time used: 4.7772m\n",
      "epoch: [17/25], loss: 0.01906224, val acc: 0.9910, val auc: 0.9998, time used: 4.7729m\n",
      "Epoch 00018: reducing learning rate of group 0 to 2.5000e-05.\n",
      "epoch: [18/25], loss: 0.01763845, val acc: 0.9950, val auc: 0.9998, time used: 4.7677m\n",
      "epoch: [19/25], Saving model ...                 \n",
      "epoch: [19/25], loss: 0.01244873, val acc: 0.9970, val auc: 1.0000, time used: 4.7758m\n",
      "epoch: [20/25], Saving model ...                 \n",
      "epoch: [20/25], loss: 0.00717701, val acc: 0.9970, val auc: 1.0000, time used: 4.7730m\n",
      "epoch: [21/25], Saving model ...                 \n",
      "epoch: [21/25], loss: 0.00646277, val acc: 0.9980, val auc: 1.0000, time used: 4.7732m\n",
      "Epoch 00022: reducing learning rate of group 0 to 1.2500e-05.\n",
      "epoch: [22/25], loss: 0.00669337, val acc: 0.9940, val auc: 0.9999, time used: 4.7639m\n",
      "epoch: [23/25], loss: 0.00586369, val acc: 0.9990, val auc: 1.0000, time used: 4.7886m\n",
      "epoch: [24/25], loss: 0.00404598, val acc: 0.9990, val auc: 1.0000, time used: 4.7780m\n",
      "Epoch 00025: reducing learning rate of group 0 to 6.2500e-06.\n",
      "epoch: [25/25], loss: 0.00377388, val acc: 0.9950, val auc: 1.0000, time used: 4.7739m\n"
     ]
    }
   ],
   "source": [
    "max_auc = 0.0\n",
    "\n",
    "for epoch in range(num_epochs):\n",
    "    losses_per_batch = []\n",
    "    start_time = time.time()\n",
    "\n",
    "    # Mini batch training\n",
    "    p_bar = tqdm(enumerate(train_loader), leave=False, total=len(train_loader), file=sys.stdout)\n",
    "    for batch_idx, (x_batch, y_batch) in p_bar:\n",
    "        # Move data to gpu if available\n",
    "        x_batch = x_batch.to(device)\n",
    "        y_batch = y_batch.to(device)\n",
    "\n",
    "        # Forward prop\n",
    "        scores = model.forward(x_batch)\n",
    "        \n",
    "        loss = criterion(scores, y_batch)\n",
    "        losses_per_batch.append(loss.item())\n",
    "\n",
    "        # Backward prop\n",
    "        optimizer.zero_grad()\n",
    "        loss.backward()\n",
    "\n",
    "        # Gradient descent step\n",
    "        optimizer.step()\n",
    "\n",
    "    # Compute acc and loss\n",
    "    cur_acc, auc, _, _ = check_accuracy(valid_loader, model, device)\n",
    "    mean_loss = sum(losses_per_batch) / len(losses_per_batch)\n",
    "\n",
    "    # lr scheduler\n",
    "    scheduler.step(auc)\n",
    "\n",
    "    # Save best model\n",
    "    if auc > max_auc:\n",
    "        checkpoint = {\n",
    "            \"model\": model.state_dict(),\n",
    "            \"optimizer\": optimizer.state_dict()\n",
    "        }\n",
    "        print(f\"epoch: [{epoch + 1}/{num_epochs}], \", end=\"\")\n",
    "\n",
    "        checkpoint_file = f\"./checkpoint/best_model.pt\"\n",
    "        print(f\"Saving model ...\")\n",
    "        torch.save(checkpoint, checkpoint_file)\n",
    "        max_auc = auc\n",
    "\n",
    "    # Print log\n",
    "    end_time = time.time()\n",
    "    print(f\"epoch: [{epoch + 1}/{num_epochs}], \"\n",
    "          f\"loss: {mean_loss:.8f}, \"\n",
    "          f\"val acc: {cur_acc.item():.4f}, \"\n",
    "          f\"val auc: {auc:.4f}, \"\n",
    "          f\"time used: {(end_time - start_time)/60:.4f}m\")\n",
    "\n",
    "    # Send log\n",
    "    wandb.log({'accuracy': cur_acc.item(), 'epoch': epoch, 'auc': auc, 'time': (end_time - start_time)/60})"
   ]
  },
  {
   "cell_type": "markdown",
   "metadata": {},
   "source": [
    "### 3. Testing"
   ]
  },
  {
   "cell_type": "markdown",
   "metadata": {},
   "source": [
    "#### 3.1 Load the best CoaT model"
   ]
  },
  {
   "cell_type": "code",
   "execution_count": 15,
   "metadata": {
    "execution": {
     "iopub.execute_input": "2023-03-26T15:14:30.581639Z",
     "iopub.status.busy": "2023-03-26T15:14:30.580887Z",
     "iopub.status.idle": "2023-03-26T15:14:31.479751Z",
     "shell.execute_reply": "2023-03-26T15:14:31.478435Z",
     "shell.execute_reply.started": "2023-03-26T15:14:30.581602Z"
    },
    "id": "PJaXHdNavHpm"
   },
   "outputs": [],
   "source": [
    "# Load the best model\n",
    "\n",
    "model = timm.create_model(\"coat_lite_small\", pretrained=False, num_classes=2, in_chans=1).to(device)\n",
    "model.default_cfg[\"input_size\"] = (1, 224, 224)\n",
    "model.default_cfg[\"num_classes\"] = 2\n",
    "\n",
    "optimizer = optim.Adam(model.parameters(), lr=lr)\n",
    "\n",
    "pretrained_model = \"./checkpoint/best_model.pt\"\n",
    "checkpoint = torch.load(pretrained_model)\n",
    "model.load_state_dict(checkpoint[\"model\"])\n",
    "optimizer.load_state_dict(checkpoint[\"optimizer\"])"
   ]
  },
  {
   "cell_type": "markdown",
   "metadata": {},
   "source": [
    "#### 3.2 Test the model on testing data and plot ROC Curves & compute AUC"
   ]
  },
  {
   "cell_type": "code",
   "execution_count": 16,
   "metadata": {
    "execution": {
     "iopub.execute_input": "2023-03-26T15:14:38.367562Z",
     "iopub.status.busy": "2023-03-26T15:14:38.367176Z",
     "iopub.status.idle": "2023-03-26T15:14:46.351118Z",
     "shell.execute_reply": "2023-03-26T15:14:46.350176Z",
     "shell.execute_reply.started": "2023-03-26T15:14:38.367528Z"
    }
   },
   "outputs": [
    {
     "name": "stdout",
     "output_type": "stream",
     "text": [
      "acc: 0.9900000691413879, auc: 0.9997039999999999\n"
     ]
    },
    {
     "data": {
      "image/png": "[encoded data removed]",
      "text/plain": [
       "<Figure size 1400x1400 with 1 Axes>"
      ]
     },
     "metadata": {},
     "output_type": "display_data"
    }
   ],
   "source": [
    "acc, auc, y_true, y_pred = check_accuracy(test_loader, model, device)\n",
    "print(f\"acc: {acc.item()}, auc: {auc}\")\n",
    "\n",
    "fpr = dict()\n",
    "tpr = dict()\n",
    "roc_auc = dict()\n",
    "\n",
    "for i in range(len(classes)):\n",
    "    fpr[i], tpr[i], _ = roc_curve(y_true[:, i], y_pred[:, i])\n",
    "    roc_auc[i] = metrics.auc(fpr[i], tpr[i])\n",
    "\n",
    "# Compute micro-average ROC curve and ROC area\n",
    "fpr[\"micro\"], tpr[\"micro\"], _ = roc_curve(y_true.ravel(), y_pred.ravel())\n",
    "roc_auc[\"micro\"] = metrics.auc(fpr[\"micro\"], tpr[\"micro\"])\n",
    "\n",
    "\n",
    "plt.figure()\n",
    "plt.plot(fpr[\"micro\"], tpr[\"micro\"],\n",
    "         label='micro-average ROC curve (area = {0:0.4f})'\n",
    "               ''.format(roc_auc[\"micro\"]))\n",
    "for i in range(len(classes)):\n",
    "    plt.plot(fpr[i], tpr[i], label='ROC curve of class '+ idx_to_class[i]+ ' (area = {0:0.4f})'\n",
    "                                   ''.format(roc_auc[i]))\n",
    "\n",
    "plt.plot([0, 1], [0, 1], 'k--')\n",
    "plt.xlim([0.0, 1.0])\n",
    "plt.ylim([0.0, 1.05])\n",
    "plt.xlabel('False Positive Rate')\n",
    "plt.ylabel('True Positive Rate')\n",
    "plt.title('ROC')\n",
    "plt.legend(loc=\"lower right\")\n",
    "plt.show()"
   ]
  },
  {
   "cell_type": "markdown",
   "metadata": {},
   "source": [
    "### 4. Results\n",
    "\n",
    "Validation Accuracy: 99.80% \\\n",
    "Validation AUC: **1.00**\n",
    "\n",
    "Test Accuracy: 99% \\\n",
    "Test AUC: **0.9997**"
   ]
  },
  {
   "cell_type": "code",
   "execution_count": null,
   "metadata": {},
   "outputs": [],
   "source": []
  }
 ],
 "metadata": {
  "colab": {
   "provenance": []
  },
  "kernelspec": {
   "display_name": "Python 3 (ipykernel)",
   "language": "python",
   "name": "python3"
  },
  "language_info": {
   "codemirror_mode": {
    "name": "ipython",
    "version": 3
   },
   "file_extension": ".py",
   "mimetype": "text/x-python",
   "name": "python",
   "nbconvert_exporter": "python",
   "pygments_lexer": "ipython3",
   "version": "3.7.12"
  }
 },
 "nbformat": 4,
 "nbformat_minor": 4
}
