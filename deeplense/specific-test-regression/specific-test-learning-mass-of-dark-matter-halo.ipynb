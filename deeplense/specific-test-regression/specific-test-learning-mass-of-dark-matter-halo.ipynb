{
 "cells": [
  {
   "cell_type": "markdown",
   "metadata": {
    "id": "ciTDQby3QS9c"
   },
   "source": [
    "# Challenge - Learning Mass of Dark Matter Halo\n",
    "\n",
    "Gravitational lensing has been a cornerstone in many cosmology experiments and studies since it was discussed in Einstein’s calculations back in 1936 and discovered in 1979, and one area of particular interest is the study of dark matter via substructure in strong lensing images. In this challenge, we focus on exploring the potential of supervised models in learning the mass of dark matter based on simulated strong lensing images.\n",
    "\n",
    "### Dataset\n",
    "\n",
    "The data set consists of strong lensing images for cold dark matter with subhalo substructure. For each lensing image the corresponding fraction of mass in dark matter substructure is provided.\n",
    "\n",
    "Link to the Dataset: https://drive.google.com/file/d/1hu472ALwGPBcTCXSAM0VoCWmTktg9j-j/view\n",
    "\n",
    "### Evaluation Metrics\n",
    "\n",
    "MSE (mean squared error)\n"
   ]
  },
  {
   "cell_type": "markdown",
   "metadata": {
    "id": "AAoe5E5xSn5b"
   },
   "source": [
    "## Regression using a Supervised Model"
   ]
  },
  {
   "cell_type": "markdown",
   "metadata": {
    "id": "YjhWSaeiSrsU"
   },
   "source": [
    "### 1. Data Visualization and Preprocessing "
   ]
  },
  {
   "cell_type": "markdown",
   "metadata": {
    "id": "GLJQyPdYSt8y"
   },
   "source": [
    "#### 1.1 Install and import all the necessary libraries"
   ]
  },
  {
   "cell_type": "code",
   "execution_count": 1,
   "metadata": {
    "colab": {
     "base_uri": "https://localhost:8080/"
    },
    "execution": {
     "iopub.execute_input": "2023-03-25T09:13:44.156499Z",
     "iopub.status.busy": "2023-03-25T09:13:44.156089Z",
     "iopub.status.idle": "2023-03-25T09:13:55.290442Z",
     "shell.execute_reply": "2023-03-25T09:13:55.289242Z",
     "shell.execute_reply.started": "2023-03-25T09:13:44.156444Z"
    },
    "id": "W2DPM_TKXyK7",
    "outputId": "9dedaaf0-fe57-4476-8bae-1d5a90b35839"
   },
   "outputs": [
    {
     "name": "stdout",
     "output_type": "stream",
     "text": [
      "Collecting gdown\n",
      "  Downloading gdown-4.7.1-py3-none-any.whl (15 kB)\n",
      "Requirement already satisfied: numpy in /opt/conda/lib/python3.7/site-packages (1.21.6)\n",
      "Requirement already satisfied: pandas in /opt/conda/lib/python3.7/site-packages (1.3.5)\n",
      "Requirement already satisfied: scikit-learn in /opt/conda/lib/python3.7/site-packages (1.0.2)\n",
      "Requirement already satisfied: matplotlib in /opt/conda/lib/python3.7/site-packages (3.5.3)\n",
      "Requirement already satisfied: tqdm in /opt/conda/lib/python3.7/site-packages (4.64.1)\n",
      "Requirement already satisfied: torch in /opt/conda/lib/python3.7/site-packages (1.13.0)\n",
      "Requirement already satisfied: torchvision in /opt/conda/lib/python3.7/site-packages (0.14.0)\n",
      "Requirement already satisfied: torchaudio in /opt/conda/lib/python3.7/site-packages (0.13.0)\n",
      "Requirement already satisfied: wandb in /opt/conda/lib/python3.7/site-packages (0.13.10)\n",
      "Requirement already satisfied: beautifulsoup4 in /opt/conda/lib/python3.7/site-packages (from gdown) (4.11.1)\n",
      "Requirement already satisfied: filelock in /opt/conda/lib/python3.7/site-packages (from gdown) (3.9.0)\n",
      "Requirement already satisfied: six in /opt/conda/lib/python3.7/site-packages (from gdown) (1.16.0)\n",
      "Requirement already satisfied: requests[socks] in /opt/conda/lib/python3.7/site-packages (from gdown) (2.28.2)\n",
      "Requirement already satisfied: python-dateutil>=2.7.3 in /opt/conda/lib/python3.7/site-packages (from pandas) (2.8.2)\n",
      "Requirement already satisfied: pytz>=2017.3 in /opt/conda/lib/python3.7/site-packages (from pandas) (2022.7.1)\n",
      "Requirement already satisfied: joblib>=0.11 in /opt/conda/lib/python3.7/site-packages (from scikit-learn) (1.2.0)\n",
      "Requirement already satisfied: threadpoolctl>=2.0.0 in /opt/conda/lib/python3.7/site-packages (from scikit-learn) (3.1.0)\n",
      "Requirement already satisfied: scipy>=1.1.0 in /opt/conda/lib/python3.7/site-packages (from scikit-learn) (1.7.3)\n",
      "Requirement already satisfied: kiwisolver>=1.0.1 in /opt/conda/lib/python3.7/site-packages (from matplotlib) (1.4.4)\n",
      "Requirement already satisfied: pyparsing>=2.2.1 in /opt/conda/lib/python3.7/site-packages (from matplotlib) (3.0.9)\n",
      "Requirement already satisfied: pillow>=6.2.0 in /opt/conda/lib/python3.7/site-packages (from matplotlib) (9.4.0)\n",
      "Requirement already satisfied: packaging>=20.0 in /opt/conda/lib/python3.7/site-packages (from matplotlib) (23.0)\n",
      "Requirement already satisfied: cycler>=0.10 in /opt/conda/lib/python3.7/site-packages (from matplotlib) (0.11.0)\n",
      "Requirement already satisfied: fonttools>=4.22.0 in /opt/conda/lib/python3.7/site-packages (from matplotlib) (4.38.0)\n",
      "Requirement already satisfied: typing-extensions in /opt/conda/lib/python3.7/site-packages (from torch) (4.4.0)\n",
      "Requirement already satisfied: Click!=8.0.0,>=7.0 in /opt/conda/lib/python3.7/site-packages (from wandb) (8.1.3)\n",
      "Requirement already satisfied: appdirs>=1.4.3 in /opt/conda/lib/python3.7/site-packages (from wandb) (1.4.4)\n",
      "Requirement already satisfied: pathtools in /opt/conda/lib/python3.7/site-packages (from wandb) (0.1.2)\n",
      "Requirement already satisfied: setproctitle in /opt/conda/lib/python3.7/site-packages (from wandb) (1.3.2)\n",
      "Requirement already satisfied: protobuf!=4.21.0,<5,>=3.12.0 in /opt/conda/lib/python3.7/site-packages (from wandb) (3.20.3)\n",
      "Requirement already satisfied: psutil>=5.0.0 in /opt/conda/lib/python3.7/site-packages (from wandb) (5.9.3)\n",
      "Requirement already satisfied: sentry-sdk>=1.0.0 in /opt/conda/lib/python3.7/site-packages (from wandb) (1.15.0)\n",
      "Requirement already satisfied: setuptools in /opt/conda/lib/python3.7/site-packages (from wandb) (59.8.0)\n",
      "Requirement already satisfied: docker-pycreds>=0.4.0 in /opt/conda/lib/python3.7/site-packages (from wandb) (0.4.0)\n",
      "Requirement already satisfied: GitPython>=1.0.0 in /opt/conda/lib/python3.7/site-packages (from wandb) (3.1.30)\n",
      "Requirement already satisfied: PyYAML in /opt/conda/lib/python3.7/site-packages (from wandb) (6.0)\n",
      "Requirement already satisfied: importlib-metadata in /opt/conda/lib/python3.7/site-packages (from Click!=8.0.0,>=7.0->wandb) (4.11.4)\n",
      "Requirement already satisfied: gitdb<5,>=4.0.1 in /opt/conda/lib/python3.7/site-packages (from GitPython>=1.0.0->wandb) (4.0.10)\n",
      "Requirement already satisfied: idna<4,>=2.5 in /opt/conda/lib/python3.7/site-packages (from requests[socks]->gdown) (3.4)\n",
      "Requirement already satisfied: certifi>=2017.4.17 in /opt/conda/lib/python3.7/site-packages (from requests[socks]->gdown) (2022.12.7)\n",
      "Requirement already satisfied: charset-normalizer<4,>=2 in /opt/conda/lib/python3.7/site-packages (from requests[socks]->gdown) (2.1.1)\n",
      "Requirement already satisfied: urllib3<1.27,>=1.21.1 in /opt/conda/lib/python3.7/site-packages (from requests[socks]->gdown) (1.26.14)\n",
      "Requirement already satisfied: soupsieve>1.2 in /opt/conda/lib/python3.7/site-packages (from beautifulsoup4->gdown) (2.3.2.post1)\n",
      "Requirement already satisfied: PySocks!=1.5.7,>=1.5.6 in /opt/conda/lib/python3.7/site-packages (from requests[socks]->gdown) (1.7.1)\n",
      "Requirement already satisfied: smmap<6,>=3.0.1 in /opt/conda/lib/python3.7/site-packages (from gitdb<5,>=4.0.1->GitPython>=1.0.0->wandb) (5.0.0)\n",
      "Requirement already satisfied: zipp>=0.5 in /opt/conda/lib/python3.7/site-packages (from importlib-metadata->Click!=8.0.0,>=7.0->wandb) (3.11.0)\n",
      "Installing collected packages: gdown\n",
      "Successfully installed gdown-4.7.1\n",
      "\u001b[33mWARNING: Running pip as the 'root' user can result in broken permissions and conflicting behaviour with the system package manager. It is recommended to use a virtual environment instead: https://pip.pypa.io/warnings/venv\u001b[0m\u001b[33m\n",
      "\u001b[0m"
     ]
    }
   ],
   "source": [
    "# %cd /content/drive/MyDrive/G Regression\n",
    "!pip3 install gdown numpy pandas scikit-learn matplotlib tqdm torch torchvision torchaudio wandb"
   ]
  },
  {
   "cell_type": "code",
   "execution_count": 2,
   "metadata": {
    "execution": {
     "iopub.execute_input": "2023-03-25T09:13:56.811312Z",
     "iopub.status.busy": "2023-03-25T09:13:56.810370Z",
     "iopub.status.idle": "2023-03-25T09:14:05.419848Z",
     "shell.execute_reply": "2023-03-25T09:14:05.418741Z",
     "shell.execute_reply.started": "2023-03-25T09:13:56.811270Z"
    },
    "id": "d3efgQ1eaVgQ"
   },
   "outputs": [
    {
     "name": "stderr",
     "output_type": "stream",
     "text": [
      "\u001b[34m\u001b[1mwandb\u001b[0m: Logging into wandb.ai. (Learn how to deploy a W&B server locally: https://wandb.me/wandb-server)\n",
      "\u001b[34m\u001b[1mwandb\u001b[0m: You can find your API key in your browser here: https://wandb.ai/authorize\n",
      "\u001b[34m\u001b[1mwandb\u001b[0m: Paste an API key from your profile and hit enter, or press ctrl+c to quit:"
     ]
    },
    {
     "name": "stdin",
     "output_type": "stream",
     "text": [
      "  ········································\n"
     ]
    },
    {
     "name": "stderr",
     "output_type": "stream",
     "text": [
      "\u001b[34m\u001b[1mwandb\u001b[0m: Appending key for api.wandb.ai to your netrc file: /root/.netrc\n"
     ]
    }
   ],
   "source": [
    "import numpy as np\n",
    "import torch\n",
    "\n",
    "from torch import nn\n",
    "from torchvision import models\n",
    "from torch.nn import Conv2d\n",
    "from torch.utils.data.sampler import SubsetRandomSampler\n",
    "from torch.utils.data import Dataset, DataLoader\n",
    "import torch.optim as optim\n",
    "from torch.optim.lr_scheduler import ReduceLROnPlateau\n",
    "import torchvision\n",
    "from torchvision import transforms, utils\n",
    "\n",
    "import glob\n",
    "from pandas.core.common import flatten\n",
    "import random\n",
    "import time\n",
    "from tqdm import tqdm\n",
    "import sys\n",
    "import os\n",
    "\n",
    "# from sklearn import metrics\n",
    "from sklearn.metrics import r2_score\n",
    "# from sklearn.preprocessing import OneHotEncoder\n",
    "# from scipy.special import softmax\n",
    "import matplotlib.pyplot as plt\n",
    "\n",
    "import wandb\n",
    "wandb.login()\n",
    "\n",
    "# Make the notebook reproducible\n",
    "\n",
    "def seed_everything(seed):\n",
    "    random.seed(seed)\n",
    "    os.environ['PYTHONHASHSEED'] = str(seed)\n",
    "    np.random.seed(seed)\n",
    "    torch.manual_seed(seed)\n",
    "    torch.cuda.manual_seed(seed)\n",
    "    torch.cuda.manual_seed_all(seed)\n",
    "    torch.backends.cudnn.deterministic = True\n",
    "\n",
    "seed = 69\n",
    "seed_everything(seed)"
   ]
  },
  {
   "cell_type": "markdown",
   "metadata": {
    "id": "88Z6NnimWIiD"
   },
   "source": [
    "#### 1.2 Download the Data"
   ]
  },
  {
   "cell_type": "code",
   "execution_count": 3,
   "metadata": {
    "colab": {
     "base_uri": "https://localhost:8080/"
    },
    "execution": {
     "iopub.execute_input": "2023-03-25T09:14:18.889407Z",
     "iopub.status.busy": "2023-03-25T09:14:18.888373Z",
     "iopub.status.idle": "2023-03-25T09:14:47.807496Z",
     "shell.execute_reply": "2023-03-25T09:14:47.806192Z",
     "shell.execute_reply.started": "2023-03-25T09:14:18.889363Z"
    },
    "id": "DXB1SM6fZv8V",
    "outputId": "299da1f4-bbd8-4554-a879-b5de4e07949c"
   },
   "outputs": [
    {
     "name": "stderr",
     "output_type": "stream",
     "text": [
      "Downloading...\n",
      "From (uriginal): https://drive.google.com/uc?id=1hu472ALwGPBcTCXSAM0VoCWmTktg9j-j\n",
      "From (redirected): https://drive.google.com/uc?id=1hu472ALwGPBcTCXSAM0VoCWmTktg9j-j&confirm=t&uuid=f50ce58b-8ff3-4b24-b951-468bd8f39d5c\n",
      "To: /kaggle/working/lens_data_alt.tgz\n",
      "100%|██████████| 573M/573M [00:02<00:00, 266MB/s] \n"
     ]
    },
    {
     "name": "stdout",
     "output_type": "stream",
     "text": [
      "/kaggle/working/lens_data\n"
     ]
    }
   ],
   "source": [
    "import gdown\n",
    "\n",
    "if not os.path.isfile('lens_data_alt.tgz'):\n",
    "    url = \"https://drive.google.com/uc?id=1hu472ALwGPBcTCXSAM0VoCWmTktg9j-j\"\n",
    "    output = \"lens_data_alt.tgz\"\n",
    "    gdown.download(url, output, quiet=False)\n",
    "\n",
    "data_dir = 'lens_data'\n",
    "\n",
    "if not os.path.isdir(data_dir):\n",
    "    os.system(\"tar xzf lens_data_alt.tgz\")\n",
    "\n",
    "%cd lens_data"
   ]
  },
  {
   "cell_type": "markdown",
   "metadata": {
    "id": "xEcx2ypBWMYr"
   },
   "source": [
    "#### 1.3 Preview the Data"
   ]
  },
  {
   "cell_type": "code",
   "execution_count": 4,
   "metadata": {
    "colab": {
     "base_uri": "https://localhost:8080/",
     "height": 200
    },
    "execution": {
     "iopub.execute_input": "2023-03-25T09:14:47.810270Z",
     "iopub.status.busy": "2023-03-25T09:14:47.809626Z",
     "iopub.status.idle": "2023-03-25T09:14:48.220206Z",
     "shell.execute_reply": "2023-03-25T09:14:48.219069Z",
     "shell.execute_reply.started": "2023-03-25T09:14:47.810224Z"
    },
    "id": "F323Zk7dzfDw",
    "outputId": "b71e607d-79b9-4b5b-c1c9-fcfde4814c2b"
   },
   "outputs": [
    {
     "name": "stdout",
     "output_type": "stream",
     "text": [
      "Samples: \n"
     ]
    },
    {
     "data": {
      "image/png": "[encoded data removed]",
      "text/plain": [
       "<Figure size 1400x1400 with 5 Axes>"
      ]
     },
     "metadata": {},
     "output_type": "display_data"
    }
   ],
   "source": [
    "# Define the input paths\n",
    "train_path = './'\n",
    "train_files = [os.path.join(train_path, f) for f in os.listdir(train_path) if f.endswith(\".npy\")]\n",
    "\n",
    "# Number of samples to display per class\n",
    "n = 5\n",
    "\n",
    "# Plot the samples \n",
    "i = 1\n",
    "print('Samples: ')\n",
    "plt.rcParams['figure.figsize'] = [14, 14]\n",
    "for image in train_files[:n]:\n",
    "    ax = plt.subplot(1,n,i)\n",
    "    data = np.load(image, allow_pickle=True)\n",
    "    img = data[0].reshape(150,150)\n",
    "    mass = data[1]\n",
    "    plt.imshow(img, cmap='gray')\n",
    "    ax.title.set_text(f'Mass: {mass:.5f}')\n",
    "    ax.get_xaxis().set_visible(False)\n",
    "    ax.get_yaxis().set_visible(False)\n",
    "    i += 1\n",
    "plt.show()\n"
   ]
  },
  {
   "cell_type": "markdown",
   "metadata": {
    "id": "ftBxWK7qgPLw"
   },
   "source": [
    "#### 1.4 Data preparation"
   ]
  },
  {
   "cell_type": "code",
   "execution_count": 5,
   "metadata": {
    "execution": {
     "iopub.execute_input": "2023-03-25T09:14:48.221932Z",
     "iopub.status.busy": "2023-03-25T09:14:48.221433Z",
     "iopub.status.idle": "2023-03-25T09:14:50.065282Z",
     "shell.execute_reply": "2023-03-25T09:14:50.064129Z",
     "shell.execute_reply.started": "2023-03-25T09:14:48.221827Z"
    },
    "id": "5MHGfvrxC3Ii"
   },
   "outputs": [],
   "source": [
    "image_paths = glob.glob('*')\n",
    "random.shuffle(image_paths)\n",
    "\n",
    "size = len(image_paths)\n",
    "train_size = 0.8\n",
    "val_size = 0.1\n",
    "test_size = 0.1\n",
    "\n",
    "train_paths = image_paths[:int(size*train_size)]\n",
    "val_paths = image_paths[int(size*train_size):int(size*(train_size+val_size))]\n",
    "test_paths = image_paths[int(size*(train_size+val_size)):int(size*(train_size+val_size+test_size))]\n"
   ]
  },
  {
   "cell_type": "code",
   "execution_count": 6,
   "metadata": {
    "execution": {
     "iopub.execute_input": "2023-03-25T09:14:50.068770Z",
     "iopub.status.busy": "2023-03-25T09:14:50.068361Z",
     "iopub.status.idle": "2023-03-25T09:14:51.418703Z",
     "shell.execute_reply": "2023-03-25T09:14:51.417487Z",
     "shell.execute_reply.started": "2023-03-25T09:14:50.068731Z"
    },
    "id": "mI56hSJu1n9n"
   },
   "outputs": [],
   "source": [
    "class MyDataset(Dataset):\n",
    "    def __init__(self, np_file_paths, transform=None):\n",
    "        self.files = np_file_paths\n",
    "        self.transform = transform\n",
    "    \n",
    "    def __getitem__(self, index):\n",
    "        record = np.load(self.files[index],allow_pickle=True)\n",
    "        image = record[0]\n",
    "        image = torch.from_numpy(image).float()\n",
    "        label = record[1]\n",
    "        label = label.astype(\"float32\")\n",
    "        \n",
    "        image = image.reshape((1, image.shape[0], image.shape[1]))\n",
    "        if self.transform is not None:\n",
    "            image = self.transform(image)\n",
    "        \n",
    "        return image, label\n",
    "    \n",
    "    def __len__(self):\n",
    "        return len(self.files)"
   ]
  },
  {
   "cell_type": "code",
   "execution_count": 7,
   "metadata": {
    "execution": {
     "iopub.execute_input": "2023-03-25T09:14:51.421276Z",
     "iopub.status.busy": "2023-03-25T09:14:51.420408Z",
     "iopub.status.idle": "2023-03-25T09:14:52.892918Z",
     "shell.execute_reply": "2023-03-25T09:14:52.891758Z",
     "shell.execute_reply.started": "2023-03-25T09:14:51.421237Z"
    },
    "id": "xl6eMrkN1oCR"
   },
   "outputs": [],
   "source": [
    "# Define the trasformations to apply on images\n",
    "\n",
    "train_transform = transforms.Compose([\n",
    "    transforms.Resize((150, 150)),\n",
    "    transforms.RandomAffine(degrees=(-20, 20), translate=(0.2, 0.2))\n",
    "])\n",
    "\n",
    "valid_transform = transforms.Compose([\n",
    "    transforms.Resize((150, 150))\n",
    "])\n",
    "\n",
    "test_tranform = transforms.Compose([\n",
    "    transforms.Resize((150, 150))\n",
    "])\n",
    "\n",
    "# Create instances of train, validation and test datasets\n",
    "\n",
    "train_dataset = MyDataset(train_paths, train_transform)\n",
    "valid_dataset = MyDataset(val_paths, valid_transform)\n",
    "test_dataset = MyDataset(test_paths, test_tranform)\n",
    "\n",
    "batch_size = 64\n",
    "\n",
    "# Create data loaders with a batch_size\n",
    "\n",
    "train_loader = DataLoader(train_dataset, batch_size=batch_size, shuffle=True)\n",
    "valid_loader = DataLoader(valid_dataset, batch_size=batch_size, shuffle=True)\n",
    "test_loader = DataLoader(test_dataset, batch_size=batch_size, shuffle=False)"
   ]
  },
  {
   "cell_type": "code",
   "execution_count": 8,
   "metadata": {
    "execution": {
     "iopub.execute_input": "2023-03-25T09:14:52.900902Z",
     "iopub.status.busy": "2023-03-25T09:14:52.898116Z",
     "iopub.status.idle": "2023-03-25T09:14:54.651829Z",
     "shell.execute_reply": "2023-03-25T09:14:54.650726Z",
     "shell.execute_reply.started": "2023-03-25T09:14:52.900852Z"
    },
    "id": "M0Mx62Vs1oIN"
   },
   "outputs": [],
   "source": [
    "device = torch.device('cuda' if torch.cuda.is_available() else 'cpu')"
   ]
  },
  {
   "cell_type": "markdown",
   "metadata": {
    "id": "SxuZXRf6jT6H"
   },
   "source": [
    "### 2. Training"
   ]
  },
  {
   "cell_type": "markdown",
   "metadata": {
    "id": "BFSjyGA4jXG3"
   },
   "source": [
    "#### 2.1 Defining Resnet-18 Model"
   ]
  },
  {
   "cell_type": "code",
   "execution_count": 9,
   "metadata": {
    "execution": {
     "iopub.execute_input": "2023-03-25T09:14:54.656131Z",
     "iopub.status.busy": "2023-03-25T09:14:54.655737Z",
     "iopub.status.idle": "2023-03-25T09:14:54.920707Z",
     "shell.execute_reply": "2023-03-25T09:14:54.919445Z",
     "shell.execute_reply.started": "2023-03-25T09:14:54.656100Z"
    },
    "id": "pH6IixXnMRnn"
   },
   "outputs": [],
   "source": [
    "class Resnet18(nn.Module):\n",
    "\n",
    "    def __init__(self, pre_trained):\n",
    "        super(Resnet18, self).__init__()\n",
    "        self.backbone = models.resnet18(pretrained=pre_trained)\n",
    "        self.backbone.conv1 = Conv2d(1, 64, kernel_size=(7, 7), stride=(2, 2), padding=(3, 3), bias=False)\n",
    "        self.backbone.fc = nn.Sequential(\n",
    "            nn.Linear(512, 128),\n",
    "            nn.ReLU(),\n",
    "            nn.Linear(128, 32),\n",
    "            nn.ReLU(),\n",
    "            nn.Linear(32, 1),\n",
    "            nn.Sigmoid()\n",
    "        )\n",
    "\n",
    "    def forward(self, x):\n",
    "        return self.backbone(x)"
   ]
  },
  {
   "cell_type": "markdown",
   "metadata": {
    "id": "EhWfd0MPjdv-"
   },
   "source": [
    "#### 2.2 Preparing to train the Resnet-18 Model"
   ]
  },
  {
   "cell_type": "code",
   "execution_count": 10,
   "metadata": {
    "execution": {
     "iopub.execute_input": "2023-03-25T09:14:54.924436Z",
     "iopub.status.busy": "2023-03-25T09:14:54.923732Z",
     "iopub.status.idle": "2023-03-25T09:14:54.933688Z",
     "shell.execute_reply": "2023-03-25T09:14:54.932404Z",
     "shell.execute_reply.started": "2023-03-25T09:14:54.924392Z"
    },
    "id": "X6rmE71KMRr1"
   },
   "outputs": [],
   "source": [
    "# Define a utility function to check the results of model on a given loader\n",
    "\n",
    "def check_accuracy(loader, model, criterion, device):\n",
    "    model.eval()\n",
    "    loss_per_step = []\n",
    "    y_true = []\n",
    "    y_pred = []\n",
    "    with torch.no_grad():\n",
    "        for (x, y) in loader:\n",
    "            x = x.to(device)\n",
    "            y = y.to(device)\n",
    "\n",
    "            score = model.forward(x)\n",
    "            loss = criterion(score.ravel(), y)\n",
    "            loss_per_step.append(loss.item())\n",
    "            y_pred.extend(list(score.cpu().numpy()))\n",
    "            y_true.extend(list(y.cpu().numpy()))\n",
    "    model.train()\n",
    "\n",
    "    r2 = r2_score(y_true, y_pred)\n",
    "    return sum(loss_per_step) / len(loss_per_step), r2"
   ]
  },
  {
   "cell_type": "code",
   "execution_count": 11,
   "metadata": {
    "execution": {
     "iopub.execute_input": "2023-03-25T09:14:54.936142Z",
     "iopub.status.busy": "2023-03-25T09:14:54.935654Z",
     "iopub.status.idle": "2023-03-25T09:14:54.947200Z",
     "shell.execute_reply": "2023-03-25T09:14:54.945713Z",
     "shell.execute_reply.started": "2023-03-25T09:14:54.936102Z"
    },
    "id": "9i872HPmMR1K"
   },
   "outputs": [],
   "source": [
    "# Create a directory to checkpoint the model\n",
    "if not os.path.exists(\"checkpoint\"):\n",
    "    os.makedirs(\"checkpoint\")"
   ]
  },
  {
   "cell_type": "code",
   "execution_count": 12,
   "metadata": {
    "execution": {
     "iopub.execute_input": "2023-03-25T09:14:54.951641Z",
     "iopub.status.busy": "2023-03-25T09:14:54.951113Z",
     "iopub.status.idle": "2023-03-25T09:14:58.653576Z",
     "shell.execute_reply": "2023-03-25T09:14:58.652373Z",
     "shell.execute_reply.started": "2023-03-25T09:14:54.951600Z"
    },
    "id": "G4U6U4SFL8gD"
   },
   "outputs": [
    {
     "name": "stderr",
     "output_type": "stream",
     "text": [
      "/opt/conda/lib/python3.7/site-packages/torchvision/models/_utils.py:209: UserWarning: The parameter 'pretrained' is deprecated since 0.13 and may be removed in the future, please use 'weights' instead.\n",
      "  f\"The parameter '{pretrained_param}' is deprecated since 0.13 and may be removed in the future, \"\n",
      "/opt/conda/lib/python3.7/site-packages/torchvision/models/_utils.py:223: UserWarning: Arguments other than a weight enum or `None` for 'weights' are deprecated since 0.13 and may be removed in the future. The current behavior is equivalent to passing `weights=ResNet18_Weights.IMAGENET1K_V1`. You can also use `weights=ResNet18_Weights.DEFAULT` to get the most up-to-date weights.\n",
      "  warnings.warn(msg)\n",
      "Downloading: \"https://download.pytorch.org/models/resnet18-f37072fd.pth\" to /root/.cache/torch/hub/checkpoints/resnet18-f37072fd.pth\n"
     ]
    },
    {
     "data": {
      "application/vnd.jupyter.widget-view+json": {
       "model_id": "49b8866eb56049c0b1051534f4f955b7",
       "version_major": 2,
       "version_minor": 0
      },
      "text/plain": [
       "  0%|          | 0.00/44.7M [00:00<?, ?B/s]"
      ]
     },
     "metadata": {},
     "output_type": "display_data"
    }
   ],
   "source": [
    "# Define the hyperparameters and model\n",
    "num_epochs = 100\n",
    "lr = 1e-4\n",
    "model = Resnet18(pre_trained=True).to(device)\n",
    "optimizer = optim.Adam(model.parameters(), lr=lr)\n",
    "criterion = nn.MSELoss()\n",
    "\n",
    "# # Uncomment to resume training a model\n",
    "# checkpoint = torch.load(\"\")\n",
    "# model.load_state_dict(checkpoint[\"model\"])\n",
    "# optimizer.load_state_dict(checkpoint[\"optimizer\"])\n",
    "\n",
    "scheduler = ReduceLROnPlateau(\n",
    "    optimizer,\n",
    "    mode=\"min\",\n",
    "    factor=0.8,\n",
    "    patience=4,\n",
    "    verbose=True,\n",
    "    min_lr=1e-10\n",
    ")"
   ]
  },
  {
   "cell_type": "code",
   "execution_count": 13,
   "metadata": {
    "execution": {
     "iopub.execute_input": "2023-03-25T09:14:58.655534Z",
     "iopub.status.busy": "2023-03-25T09:14:58.655144Z",
     "iopub.status.idle": "2023-03-25T09:15:29.284260Z",
     "shell.execute_reply": "2023-03-25T09:15:29.283255Z",
     "shell.execute_reply.started": "2023-03-25T09:14:58.655491Z"
    },
    "id": "-Y_Xey1CMKKw"
   },
   "outputs": [
    {
     "name": "stderr",
     "output_type": "stream",
     "text": [
      "\u001b[34m\u001b[1mwandb\u001b[0m: Currently logged in as: \u001b[33myogesh174\u001b[0m. Use \u001b[1m`wandb login --relogin`\u001b[0m to force relogin\n"
     ]
    },
    {
     "data": {
      "text/html": [
       "wandb version 0.14.0 is available!  To upgrade, please run:\n",
       " $ pip install wandb --upgrade"
      ],
      "text/plain": [
       "<IPython.core.display.HTML object>"
      ]
     },
     "metadata": {},
     "output_type": "display_data"
    },
    {
     "data": {
      "text/html": [
       "Tracking run with wandb version 0.13.10"
      ],
      "text/plain": [
       "<IPython.core.display.HTML object>"
      ]
     },
     "metadata": {},
     "output_type": "display_data"
    },
    {
     "data": {
      "text/html": [
       "Run data is saved locally in <code>/kaggle/working/lens_data/wandb/run-20230325_091458-fhi6j2ij</code>"
      ],
      "text/plain": [
       "<IPython.core.display.HTML object>"
      ]
     },
     "metadata": {},
     "output_type": "display_data"
    },
    {
     "data": {
      "text/html": [
       "Syncing run <strong><a href='https://wandb.ai/yogesh174/deeplense-regression-test/runs/fhi6j2ij' target=\"_blank\">lively-microwave-6</a></strong> to <a href='https://wandb.ai/yogesh174/deeplense-regression-test' target=\"_blank\">Weights & Biases</a> (<a href='https://wandb.me/run' target=\"_blank\">docs</a>)<br/>"
      ],
      "text/plain": [
       "<IPython.core.display.HTML object>"
      ]
     },
     "metadata": {},
     "output_type": "display_data"
    },
    {
     "data": {
      "text/html": [
       " View project at <a href='https://wandb.ai/yogesh174/deeplense-regression-test' target=\"_blank\">https://wandb.ai/yogesh174/deeplense-regression-test</a>"
      ],
      "text/plain": [
       "<IPython.core.display.HTML object>"
      ]
     },
     "metadata": {},
     "output_type": "display_data"
    },
    {
     "data": {
      "text/html": [
       " View run at <a href='https://wandb.ai/yogesh174/deeplense-regression-test/runs/fhi6j2ij' target=\"_blank\">https://wandb.ai/yogesh174/deeplense-regression-test/runs/fhi6j2ij</a>"
      ],
      "text/plain": [
       "<IPython.core.display.HTML object>"
      ]
     },
     "metadata": {},
     "output_type": "display_data"
    },
    {
     "data": {
      "text/plain": [
       "[]"
      ]
     },
     "execution_count": 13,
     "metadata": {},
     "output_type": "execute_result"
    }
   ],
   "source": [
    "# Start a new wandb run\n",
    "\n",
    "wandb.init(\n",
    "    project=\"deeplense-regression-test\",\n",
    "    config={\n",
    "        \"batch_size\": batch_size,\n",
    "        \"learning_rate\": lr,\n",
    "        \"architecture\": \"Resnet18\",\n",
    "        \"epochs\": num_epochs\n",
    "    }\n",
    ")\n",
    "\n",
    "wandb.watch(model, log_freq=100)"
   ]
  },
  {
   "cell_type": "markdown",
   "metadata": {
    "id": "XoWQ0IDjkiVr"
   },
   "source": [
    "#### 2.3 Training/Fine-tuning the Resnet-18 Model"
   ]
  },
  {
   "cell_type": "code",
   "execution_count": 14,
   "metadata": {
    "execution": {
     "iopub.execute_input": "2023-03-25T09:15:29.291498Z",
     "iopub.status.busy": "2023-03-25T09:15:29.288570Z",
     "iopub.status.idle": "2023-03-25T10:36:36.728370Z",
     "shell.execute_reply": "2023-03-25T10:36:36.727349Z",
     "shell.execute_reply.started": "2023-03-25T09:15:29.291441Z"
    },
    "id": "U-c_NrgyMY3m"
   },
   "outputs": [
    {
     "name": "stdout",
     "output_type": "stream",
     "text": [
      "epoch 1: Saving model ...                        \n",
      "epoch [1/100], train mse: 0.014089054100797511, val mse: 0.00021078436338939355, val r2 score: -0.0047, time used: 1.0027m\n",
      "epoch [2/100], train mse: 0.00022504669916816056, val mse: 0.00021103098697494715, val r2 score: -0.0029, time used: 0.8224m\n",
      "epoch 3: Saving model ...                        \n",
      "epoch [3/100], train mse: 0.00021959282635361887, val mse: 0.00020884117748209974, val r2 score: 0.0022, time used: 0.8134m\n",
      "epoch 4: Saving model ...                        \n",
      "epoch [4/100], train mse: 0.000214489389793016, val mse: 0.00020629024720619782, val r2 score: 0.0377, time used: 0.8208m\n",
      "epoch [5/100], train mse: 0.00021097440694575197, val mse: 0.000206787811293907, val r2 score: 0.0213, time used: 0.8025m\n",
      "epoch [6/100], train mse: 0.00020703631604555994, val mse: 0.00022421312041842612, val r2 score: -0.0711, time used: 0.8079m\n",
      "epoch 7: Saving model ...                        \n",
      "epoch [7/100], train mse: 0.0001994819748797454, val mse: 0.00018815573776009842, val r2 score: 0.1146, time used: 0.8071m\n",
      "epoch [8/100], train mse: 0.00019347655324963853, val mse: 0.0001916068949867622, val r2 score: 0.0800, time used: 0.8098m\n",
      "epoch 9: Saving model ...                        \n",
      "epoch [9/100], train mse: 0.00018505007796920837, val mse: 0.00018046522654913133, val r2 score: 0.1340, time used: 0.8068m\n",
      "epoch [10/100], train mse: 0.00017668683026568033, val mse: 0.00021991831590639777, val r2 score: -0.0482, time used: 0.8073m\n",
      "epoch 11: Saving model ...                       \n",
      "epoch [11/100], train mse: 0.0001703609576507006, val mse: 0.0001593990311903326, val r2 score: 0.2408, time used: 0.8042m\n",
      "epoch [12/100], train mse: 0.00016255691315745935, val mse: 0.0001811049578464008, val r2 score: 0.1375, time used: 0.8085m\n",
      "epoch [13/100], train mse: 0.00015758766018552706, val mse: 0.00018929504494735738, val r2 score: 0.0858, time used: 0.7950m\n",
      "epoch 14: Saving model ...                       \n",
      "epoch [14/100], train mse: 0.00014886567578651012, val mse: 0.00013581625034930767, val r2 score: 0.3570, time used: 0.8112m\n",
      "epoch [15/100], train mse: 0.00014271027527865953, val mse: 0.00014959370901124203, val r2 score: 0.2887, time used: 0.8022m\n",
      "epoch [16/100], train mse: 0.0001358432334382087, val mse: 0.00015795322974554438, val r2 score: 0.2479, time used: 0.8037m\n",
      "epoch [17/100], train mse: 0.00012836955481907353, val mse: 0.00014782799689783133, val r2 score: 0.3109, time used: 0.8070m\n",
      "epoch 18: Saving model ...                       \n",
      "epoch [18/100], train mse: 0.00012335946338134818, val mse: 0.0001311407709181367, val r2 score: 0.3767, time used: 0.8085m\n",
      "epoch [19/100], train mse: 0.00012053849807125517, val mse: 0.00015700199287493888, val r2 score: 0.2575, time used: 0.8046m\n",
      "epoch [20/100], train mse: 0.00011434433702379466, val mse: 0.0001587167835168657, val r2 score: 0.2388, time used: 0.8017m\n",
      "epoch 21: Saving model ...                       \n",
      "epoch [21/100], train mse: 0.00010972682347346563, val mse: 0.00011571684490263578, val r2 score: 0.4486, time used: 0.8143m\n",
      "epoch [22/100], train mse: 0.0001074874245095998, val mse: 0.00013376543938647956, val r2 score: 0.3642, time used: 0.8075m\n",
      "epoch [23/100], train mse: 0.0001026555865246337, val mse: 0.00011576574343052926, val r2 score: 0.4526, time used: 0.8087m\n",
      "epoch 24: Saving model ...                       \n",
      "epoch [24/100], train mse: 0.00010233311547199264, val mse: 0.00011027418622688856, val r2 score: 0.4741, time used: 0.8120m\n",
      "epoch 25: Saving model ...                       \n",
      "epoch [25/100], train mse: 9.75943605590146e-05, val mse: 0.00010533814293012256, val r2 score: 0.4973, time used: 0.8166m\n",
      "epoch [26/100], train mse: 9.622831649903674e-05, val mse: 0.00012653721478272928, val r2 score: 0.3950, time used: 0.8201m\n",
      "epoch 27: Saving model ...                       \n",
      "epoch [27/100], train mse: 9.31555510032922e-05, val mse: 9.99401513581688e-05, val r2 score: 0.5287, time used: 0.8162m\n",
      "epoch [28/100], train mse: 9.29840264871018e-05, val mse: 0.00010100687723024748, val r2 score: 0.5161, time used: 0.8159m\n",
      "epoch [29/100], train mse: 8.932064166583587e-05, val mse: 0.00011953887928939366, val r2 score: 0.4378, time used: 0.8018m\n",
      "epoch [30/100], train mse: 8.79873188532656e-05, val mse: 0.0001390881147926848, val r2 score: 0.3490, time used: 0.8057m\n",
      "epoch 31: Saving model ...                       \n",
      "epoch [31/100], train mse: 8.73447346384637e-05, val mse: 8.856952371161242e-05, val r2 score: 0.5709, time used: 0.8118m\n",
      "epoch [32/100], train mse: 8.315238925570156e-05, val mse: 9.44040089052578e-05, val r2 score: 0.5459, time used: 0.8148m\n",
      "epoch [33/100], train mse: 8.456393667438534e-05, val mse: 9.217943761541392e-05, val r2 score: 0.5672, time used: 0.8044m\n",
      "epoch [34/100], train mse: 8.189630189735908e-05, val mse: 0.0001150042214703717, val r2 score: 0.4602, time used: 0.8130m\n",
      "epoch 35: Saving model ...                       \n",
      "epoch [35/100], train mse: 8.219380977971014e-05, val mse: 8.334846029356413e-05, val r2 score: 0.6103, time used: 0.8035m\n",
      "epoch 36: Saving model ...                       \n",
      "epoch [36/100], train mse: 7.920505564834457e-05, val mse: 8.158634761912253e-05, val r2 score: 0.6103, time used: 0.8235m\n",
      "epoch 37: Saving model ...                       \n",
      "epoch [37/100], train mse: 7.854947779560462e-05, val mse: 7.160487871260557e-05, val r2 score: 0.6581, time used: 0.8116m\n",
      "epoch [38/100], train mse: 7.6808381912997e-05, val mse: 8.664894221510622e-05, val r2 score: 0.5874, time used: 0.8104m\n",
      "epoch [39/100], train mse: 7.521134379203432e-05, val mse: 8.33309437666685e-05, val r2 score: 0.6044, time used: 0.8090m\n",
      "epoch [40/100], train mse: 7.755682313290891e-05, val mse: 0.00010020090849138796, val r2 score: 0.5225, time used: 0.8027m\n",
      "epoch [41/100], train mse: 7.508406782289967e-05, val mse: 7.28971151602309e-05, val r2 score: 0.6520, time used: 0.8128m\n",
      "Epoch 00042: reducing learning rate of group 0 to 8.0000e-05.\n",
      "epoch [42/100], train mse: 7.307113149727229e-05, val mse: 7.398256479973497e-05, val r2 score: 0.6484, time used: 0.8009m\n",
      "epoch [43/100], train mse: 6.953211409563665e-05, val mse: 7.422630073961045e-05, val r2 score: 0.6447, time used: 0.8108m\n",
      "epoch [44/100], train mse: 6.82947308087023e-05, val mse: 8.110016096907202e-05, val r2 score: 0.6121, time used: 0.8086m\n",
      "epoch 45: Saving model ...                       \n",
      "epoch [45/100], train mse: 6.742433834006079e-05, val mse: 6.805100144902099e-05, val r2 score: 0.6734, time used: 0.8154m\n",
      "epoch [46/100], train mse: 6.488019818789325e-05, val mse: 8.496877876496001e-05, val r2 score: 0.5958, time used: 0.8047m\n",
      "epoch [47/100], train mse: 6.479109231440816e-05, val mse: 0.00010125001722371962, val r2 score: 0.5160, time used: 0.8103m\n",
      "epoch [48/100], train mse: 6.391667947173119e-05, val mse: 8.636136851691845e-05, val r2 score: 0.5943, time used: 0.8073m\n",
      "epoch [49/100], train mse: 6.371685804333538e-05, val mse: 9.929332338742825e-05, val r2 score: 0.5212, time used: 0.8097m\n",
      "Epoch 00050: reducing learning rate of group 0 to 6.4000e-05.\n",
      "epoch [50/100], train mse: 6.323057309782598e-05, val mse: 7.313916603379766e-05, val r2 score: 0.6485, time used: 0.8135m\n",
      "epoch [51/100], train mse: 5.862297532439697e-05, val mse: 8.181279724794877e-05, val r2 score: 0.6057, time used: 0.8044m\n",
      "epoch [52/100], train mse: 5.851060952409171e-05, val mse: 9.956502788099897e-05, val r2 score: 0.5261, time used: 0.8088m\n",
      "epoch 53: Saving model ...                       \n",
      "epoch [53/100], train mse: 5.743024888215586e-05, val mse: 6.610320997424424e-05, val r2 score: 0.6857, time used: 0.8146m\n",
      "epoch [54/100], train mse: 5.80538833673927e-05, val mse: 6.821373278853571e-05, val r2 score: 0.6725, time used: 0.8152m\n",
      "epoch [55/100], train mse: 5.6380121110123583e-05, val mse: 6.672579092992237e-05, val r2 score: 0.6840, time used: 0.8066m\n",
      "epoch 56: Saving model ...                       \n",
      "epoch [56/100], train mse: 5.5032231255609074e-05, val mse: 6.25500368869325e-05, val r2 score: 0.6997, time used: 0.8179m\n",
      "epoch [57/100], train mse: 5.4379172608605586e-05, val mse: 0.0001369426015571662, val r2 score: 0.3449, time used: 0.8094m\n",
      "epoch [58/100], train mse: 5.3974034388375e-05, val mse: 6.988176562572335e-05, val r2 score: 0.6689, time used: 0.8143m\n",
      "epoch 59: Saving model ...                       \n",
      "epoch [59/100], train mse: 5.471584388578776e-05, val mse: 5.926738379002927e-05, val r2 score: 0.7186, time used: 0.8167m\n",
      "epoch [60/100], train mse: 5.333818458893802e-05, val mse: 6.60870231286026e-05, val r2 score: 0.6910, time used: 0.8151m\n",
      "epoch [61/100], train mse: 5.189510363561567e-05, val mse: 7.274972892901133e-05, val r2 score: 0.6514, time used: 0.8133m\n",
      "epoch [62/100], train mse: 5.1939596203737894e-05, val mse: 7.374208371402347e-05, val r2 score: 0.6502, time used: 0.8094m\n",
      "epoch [63/100], train mse: 5.12580944923684e-05, val mse: 7.469899480838649e-05, val r2 score: 0.6453, time used: 0.8111m\n",
      "Epoch 00064: reducing learning rate of group 0 to 5.1200e-05.\n",
      "epoch [64/100], train mse: 5.1298569960636084e-05, val mse: 6.638275465320476e-05, val r2 score: 0.6806, time used: 0.8125m\n",
      "epoch [65/100], train mse: 4.980003587115789e-05, val mse: 7.597801425163198e-05, val r2 score: 0.6384, time used: 0.8086m\n",
      "epoch [66/100], train mse: 4.946518595534144e-05, val mse: 8.339503983734176e-05, val r2 score: 0.6103, time used: 0.8069m\n",
      "epoch [67/100], train mse: 4.817172222828958e-05, val mse: 6.180674643019302e-05, val r2 score: 0.7082, time used: 0.8136m\n",
      "epoch [68/100], train mse: 4.759428818942979e-05, val mse: 6.473663790984574e-05, val r2 score: 0.6913, time used: 0.8087m\n",
      "Epoch 00069: reducing learning rate of group 0 to 4.0960e-05.\n",
      "epoch [69/100], train mse: 4.7296522068791093e-05, val mse: 7.524746126819082e-05, val r2 score: 0.6394, time used: 0.8136m\n",
      "epoch [70/100], train mse: 4.5761458452034275e-05, val mse: 6.56685110698163e-05, val r2 score: 0.6835, time used: 0.8084m\n",
      "epoch [71/100], train mse: 4.509158555447357e-05, val mse: 6.580787191978743e-05, val r2 score: 0.7053, time used: 0.8038m\n",
      "epoch [72/100], train mse: 4.424302268307656e-05, val mse: 6.863855173833144e-05, val r2 score: 0.6711, time used: 0.8127m\n",
      "epoch [73/100], train mse: 4.347651229181792e-05, val mse: 6.052207152151823e-05, val r2 score: 0.7134, time used: 0.8039m\n",
      "Epoch 00074: reducing learning rate of group 0 to 3.2768e-05.\n",
      "epoch [74/100], train mse: 4.2949391005095094e-05, val mse: 7.529475180945155e-05, val r2 score: 0.6369, time used: 0.8110m\n",
      "epoch [75/100], train mse: 4.1279346929513847e-05, val mse: 6.676384106185651e-05, val r2 score: 0.6814, time used: 0.8001m\n",
      "epoch [76/100], train mse: 4.095325788512128e-05, val mse: 7.093646070188697e-05, val r2 score: 0.6645, time used: 0.8156m\n",
      "epoch [77/100], train mse: 4.1972465740400365e-05, val mse: 6.591035639758047e-05, val r2 score: 0.6923, time used: 0.7999m\n",
      "epoch [78/100], train mse: 4.046495935472194e-05, val mse: 7.36263482394861e-05, val r2 score: 0.6507, time used: 0.8116m\n",
      "Epoch 00079: reducing learning rate of group 0 to 2.6214e-05.\n",
      "epoch [79/100], train mse: 4.0808758079947435e-05, val mse: 8.196402302473871e-05, val r2 score: 0.6167, time used: 0.8073m\n",
      "epoch [80/100], train mse: 3.884549034410156e-05, val mse: 7.407376449464209e-05, val r2 score: 0.6450, time used: 0.8108m\n",
      "epoch [81/100], train mse: 3.964689638814889e-05, val mse: 7.87171144338572e-05, val r2 score: 0.6191, time used: 0.8049m\n",
      "epoch [82/100], train mse: 3.907165654527489e-05, val mse: 8.610848374246416e-05, val r2 score: 0.5856, time used: 0.8112m\n",
      "epoch [83/100], train mse: 3.845811114297249e-05, val mse: 8.742348200030392e-05, val r2 score: 0.5932, time used: 0.8123m\n",
      "Epoch 00084: reducing learning rate of group 0 to 2.0972e-05.\n",
      "epoch [84/100], train mse: 3.8325632995110934e-05, val mse: 7.615845277086919e-05, val r2 score: 0.6436, time used: 0.8058m\n",
      "epoch [85/100], train mse: 3.645949834753992e-05, val mse: 7.221633563858632e-05, val r2 score: 0.6580, time used: 0.8093m\n",
      "epoch [86/100], train mse: 3.71044868224999e-05, val mse: 6.414216204575496e-05, val r2 score: 0.6941, time used: 0.8075m\n",
      "epoch [87/100], train mse: 3.591376332769869e-05, val mse: 7.015142830368859e-05, val r2 score: 0.6622, time used: 0.8084m\n",
      "epoch [88/100], train mse: 3.486105269985273e-05, val mse: 7.444323478011938e-05, val r2 score: 0.6429, time used: 0.8044m\n",
      "Epoch 00089: reducing learning rate of group 0 to 1.6777e-05.\n",
      "epoch [89/100], train mse: 3.5414287718595006e-05, val mse: 6.305624015112699e-05, val r2 score: 0.7009, time used: 0.8110m\n",
      "epoch [90/100], train mse: 3.4586366600706244e-05, val mse: 7.441156128606963e-05, val r2 score: 0.6415, time used: 0.8038m\n",
      "epoch [91/100], train mse: 3.504618899751222e-05, val mse: 6.284431549374858e-05, val r2 score: 0.7078, time used: 0.8123m\n",
      "epoch [92/100], train mse: 3.473804193345131e-05, val mse: 6.300826316874009e-05, val r2 score: 0.6960, time used: 0.8046m\n",
      "epoch [93/100], train mse: 3.410725040885154e-05, val mse: 7.988744243903056e-05, val r2 score: 0.6170, time used: 0.8089m\n",
      "Epoch 00094: reducing learning rate of group 0 to 1.3422e-05.\n",
      "epoch [94/100], train mse: 3.431839407858206e-05, val mse: 8.372472859718982e-05, val r2 score: 0.6067, time used: 0.8074m\n",
      "epoch [95/100], train mse: 3.330212954460876e-05, val mse: 5.952664201913649e-05, val r2 score: 0.7191, time used: 0.8031m\n",
      "epoch [96/100], train mse: 3.3276842936174947e-05, val mse: 7.218648875095823e-05, val r2 score: 0.6626, time used: 0.8128m\n",
      "epoch [97/100], train mse: 3.3572396307135935e-05, val mse: 6.728375831244193e-05, val r2 score: 0.6785, time used: 0.8027m\n",
      "epoch [98/100], train mse: 3.282187040167628e-05, val mse: 6.14382184949136e-05, val r2 score: 0.7115, time used: 0.8130m\n",
      "Epoch 00099: reducing learning rate of group 0 to 1.0737e-05.\n",
      "epoch [99/100], train mse: 3.315986273082672e-05, val mse: 6.068013385629456e-05, val r2 score: 0.7125, time used: 0.7999m\n",
      "epoch [100/100], train mse: 3.2199868714087645e-05, val mse: 6.247226860978117e-05, val r2 score: 0.6996, time used: 0.8058m\n"
     ]
    }
   ],
   "source": [
    "min_loss = 0\n",
    "\n",
    "for epoch in range(num_epochs):\n",
    "    losses_per_batch = []\n",
    "    start_time = time.time()\n",
    "    \n",
    "    # Mini batch training\n",
    "    p_bar = tqdm(enumerate(train_loader), leave=False, total=len(train_loader), file=sys.stdout)\n",
    "    for batch_idx, (x_batch, y_batch) in p_bar:\n",
    "        # Move data to gpu if available\n",
    "        x_batch = x_batch.to(device)\n",
    "        y_batch = y_batch.to(device)\n",
    "\n",
    "        # Forward prop\n",
    "        scores = model.forward(x_batch)\n",
    "        loss = criterion(scores.ravel(), y_batch)\n",
    "        losses_per_batch.append(loss.item())\n",
    "\n",
    "        # Backward prop\n",
    "        optimizer.zero_grad()\n",
    "        loss.backward()\n",
    "        \n",
    "        # Gradient descent step\n",
    "        optimizer.step()\n",
    "\n",
    "    # Compute mse and loss\n",
    "    val_loss, r2 = check_accuracy(valid_loader, model, criterion, device)\n",
    "    train_loss = sum(losses_per_batch) / len(losses_per_batch)\n",
    "\n",
    "    # lr scheduler\n",
    "    scheduler.step(val_loss)\n",
    "\n",
    "    # Save best model\n",
    "    if (epoch == 0) or (val_loss < min_loss):\n",
    "        check_point = {\n",
    "            \"state_dict\": model.state_dict(),\n",
    "            \"optimizer\": optimizer.state_dict()\n",
    "        }\n",
    "        print(f\"epoch {epoch+1}: \", end=\"\")\n",
    "\n",
    "        checkpoint_file = \"./checkpoint/best_model.pt\"\n",
    "        print(\"Saving model ...\")\n",
    "        torch.save(check_point, checkpoint_file)\n",
    "        min_loss = val_loss\n",
    "\n",
    "    end_time = time.time()\n",
    "    \n",
    "    # Print log\n",
    "    print(f\"epoch [{epoch + 1}/{num_epochs}], \"\n",
    "            f\"train mse: {train_loss}, \"\n",
    "            f\"val mse: {val_loss}, \"\n",
    "            f\"val r2 score: {r2:.4f}, \"\n",
    "            f\"time used: {(end_time - start_time)/60:.4f}m\")\n",
    "    \n",
    "    # Send log\n",
    "    wandb.log({'Train MSE': train_loss, 'Validation MSE': val_loss, 'Validation R2': r2, 'epoch': epoch, 'time': (end_time - start_time)/60})"
   ]
  },
  {
   "cell_type": "markdown",
   "metadata": {
    "id": "MVg9POaKkr2u"
   },
   "source": [
    "### 3. Testing"
   ]
  },
  {
   "cell_type": "markdown",
   "metadata": {
    "id": "qnlo2nSkkuq6"
   },
   "source": [
    "#### 3.1 Testing the Finetuned Resnet-18 Model on testing data"
   ]
  },
  {
   "cell_type": "code",
   "execution_count": 15,
   "metadata": {
    "execution": {
     "iopub.execute_input": "2023-03-25T10:43:12.833103Z",
     "iopub.status.busy": "2023-03-25T10:43:12.832379Z",
     "iopub.status.idle": "2023-03-25T10:43:13.185379Z",
     "shell.execute_reply": "2023-03-25T10:43:13.183578Z",
     "shell.execute_reply.started": "2023-03-25T10:43:12.833065Z"
    },
    "id": "xOllxc8PMlZt"
   },
   "outputs": [
    {
     "name": "stderr",
     "output_type": "stream",
     "text": [
      "/opt/conda/lib/python3.7/site-packages/torchvision/models/_utils.py:209: UserWarning: The parameter 'pretrained' is deprecated since 0.13 and may be removed in the future, please use 'weights' instead.\n",
      "  f\"The parameter '{pretrained_param}' is deprecated since 0.13 and may be removed in the future, \"\n",
      "/opt/conda/lib/python3.7/site-packages/torchvision/models/_utils.py:223: UserWarning: Arguments other than a weight enum or `None` for 'weights' are deprecated since 0.13 and may be removed in the future. The current behavior is equivalent to passing `weights=None`.\n",
      "  warnings.warn(msg)\n"
     ]
    }
   ],
   "source": [
    "model = Resnet18(pre_trained=False).to(device)\n",
    "optimizer = optim.Adam(model.parameters(), lr=lr)\n",
    "\n",
    "pretrained_model = \"./checkpoint/best_model.pt\"\n",
    "checkpoint = torch.load(pretrained_model)\n",
    "model.load_state_dict(checkpoint[\"state_dict\"])\n",
    "optimizer.load_state_dict(checkpoint[\"optimizer\"])"
   ]
  },
  {
   "cell_type": "markdown",
   "metadata": {
    "id": "YaCOeIEFlbYj"
   },
   "source": [
    "#### 3.2 Calculating MSE on test set"
   ]
  },
  {
   "cell_type": "code",
   "execution_count": 18,
   "metadata": {
    "execution": {
     "iopub.execute_input": "2023-03-25T10:44:53.891136Z",
     "iopub.status.busy": "2023-03-25T10:44:53.890772Z",
     "iopub.status.idle": "2023-03-25T10:44:56.822306Z",
     "shell.execute_reply": "2023-03-25T10:44:56.821069Z",
     "shell.execute_reply.started": "2023-03-25T10:44:53.891102Z"
    },
    "id": "cmRDetDZNliM"
   },
   "outputs": [
    {
     "name": "stdout",
     "output_type": "stream",
     "text": [
      "test mse loss: 6.066018761430314e-05, r2: 0.7171911919653813\n"
     ]
    }
   ],
   "source": [
    "test_loss, r2 = check_accuracy(test_loader, model, criterion, device)\n",
    "print(f\"test mse loss: {test_loss}, r2: {r2}\")"
   ]
  },
  {
   "cell_type": "markdown",
   "metadata": {
    "id": "re1vlMiQlnNA"
   },
   "source": [
    "### 4. Results\n",
    "\n",
    "The given dataset is divided into 80% of training samples, 10% of validation samples and 10% of test samples.\n",
    "\n",
    "Train MSE: 5.47e-05\n",
    "\n",
    "Validation MSE: **5.93e-05** \\\n",
    "Validation R2 score: 0.718\n",
    "\n",
    "Test MSE: **6.07e-05** \\\n",
    "Test R2 score: 0.717"
   ]
  },
  {
   "cell_type": "code",
   "execution_count": null,
   "metadata": {},
   "outputs": [],
   "source": []
  }
 ],
 "metadata": {
  "colab": {
   "provenance": [],
   "toc_visible": true
  },
  "kernelspec": {
   "display_name": "Python 3 (ipykernel)",
   "language": "python",
   "name": "python3"
  },
  "language_info": {
   "codemirror_mode": {
    "name": "ipython",
    "version": 3
   },
   "file_extension": ".py",
   "mimetype": "text/x-python",
   "name": "python",
   "nbconvert_exporter": "python",
   "pygments_lexer": "ipython3",
   "version": "3.7.12"
  }
 },
 "nbformat": 4,
 "nbformat_minor": 4
}
